{
 "cells": [
  {
   "cell_type": "code",
   "execution_count": 1,
   "metadata": {},
   "outputs": [],
   "source": [
    "from azureml.core import Workspace, Experiment, Dataset, Datastore\n",
    "\n",
    "ws = Workspace.from_config()"
   ]
  },
  {
   "cell_type": "code",
   "execution_count": 3,
   "metadata": {},
   "outputs": [],
   "source": [
    "BLOB_CONTAINER = os.environ.get(\"BLOB_CONTAINER_NAME\", \"diabetes\")\n",
    "BLOB_ACCOUNT = os.environ.get(\"BLOB_ACCT_NAME\", \"publicmldatasc\")\n",
    "BLOB_SAS_TOKEN = os.environ.get(\"BLOB_SAS_TOKEN\", \"?si=DiabetesReadOnly&sv=2019-10-10&sr=c&sig=cz9P%2B1V1eC6FvDIKBQNmA5nWqbsGfkqzdPTTYmiidfg%3D\")"
   ]
  },
  {
   "cell_type": "code",
   "execution_count": 4,
   "metadata": {},
   "outputs": [
    {
     "name": "stdout",
     "output_type": "stream",
     "text": [
      "'diabetes' datastore found. Skipping registration\n"
     ]
    }
   ],
   "source": [
    "datastore_name = 'diabetes'\n",
    "\n",
    "from azureml.core import Datastore\n",
    "\n",
    "if ws.datastores.get(datastore_name):\n",
    "    print(f\"'{datastore_name}' datastore found. Skipping registration\")\n",
    "else:\n",
    "    print(f\"'{datastore_name}' datastore not found. Registering with Workspace\")\n",
    "    _ = Datastore.register_azure_blob_container(workspace=ws,\n",
    "                                                datastore_name='diabetes',\n",
    "                                                container_name=BLOB_CONTAINER,\n",
    "                                                account_name=BLOB_ACCOUNT,\n",
    "                                                sas_token=BLOB_SAS_TOKEN)"
   ]
  },
  {
   "cell_type": "code",
   "execution_count": 5,
   "metadata": {},
   "outputs": [],
   "source": [
    "ds = ws.datastores['diabetes']"
   ]
  },
  {
   "cell_type": "code",
   "execution_count": 7,
   "metadata": {},
   "outputs": [],
   "source": [
    "from azureml.core import Dataset\n",
    "\n",
    "dataset = Dataset.Tabular.from_parquet_files(path=(ds, 'parquet/diabetes.parquet'))\n",
    "dataset = dataset.register(ws, name=\"diabetes\")"
   ]
  },
  {
   "cell_type": "code",
   "execution_count": 6,
   "metadata": {},
   "outputs": [],
   "source": [
    "file_dataset = Dataset.File.from_files(path=(ds, 'parquet/diabetes.parquet'))\n",
    "file_dataset = file_dataset.register(ws, name=\"diabetes-files\")"
   ]
  },
  {
   "cell_type": "markdown",
   "metadata": {},
   "source": [
    "## Create XGBoost Environment"
   ]
  },
  {
   "cell_type": "code",
   "execution_count": 19,
   "metadata": {},
   "outputs": [],
   "source": [
    "from azureml.core import Environment\n",
    "from azureml.core.conda_dependencies import CondaDependencies\n",
    "\n",
    "environ = Environment(name=\"MLFlow-XGBoost\")\n",
    "environ.docker.enabled = True\n",
    "\n",
    "environ.python.conda_dependencies = CondaDependencies.create(python_version=\"3.8.6\",\n",
    "                                                             conda_packages=[\"pip\"],\n",
    "                                                             pip_packages=[\"mlflow==1.11.0\", \n",
    "                                                                           \"xgboost==1.2.1\", \n",
    "                                                                           \"pandas==1.1.4\", \n",
    "                                                                           \"scikit-learn==0.23.2\",\n",
    "                                                                           \"azureml-mlflow==1.17.0.post1\",\n",
    "                                                                           \"azureml-defaults==1.17.0\",\n",
    "                                                                           \"matplotlib==3.3.2\"], \n",
    "                                                             pin_sdk_version=True)"
   ]
  },
  {
   "cell_type": "code",
   "execution_count": 20,
   "metadata": {},
   "outputs": [
    {
     "data": {
      "text/plain": [
       "<azureml.core.environment.ImageBuildDetails at 0x7f3a94574240>"
      ]
     },
     "execution_count": 20,
     "metadata": {},
     "output_type": "execute_result"
    }
   ],
   "source": [
    "environ = environ.register(ws)\n",
    "build = environ.build(ws)\n",
    "build.wait_for_completion(show_output=True)"
   ]
  },
  {
   "cell_type": "code",
   "execution_count": null,
   "metadata": {},
   "outputs": [],
   "source": []
  }
 ],
 "metadata": {
  "kernelspec": {
   "display_name": "Python 3.6 - AzureML",
   "language": "python",
   "name": "python3-azureml"
  },
  "language_info": {
   "codemirror_mode": {
    "name": "ipython",
    "version": 3
   },
   "file_extension": ".py",
   "mimetype": "text/x-python",
   "name": "python",
   "nbconvert_exporter": "python",
   "pygments_lexer": "ipython3",
   "version": "3.6.9"
  }
 },
 "nbformat": 4,
 "nbformat_minor": 4
}
